{
 "cells": [
  {
   "cell_type": "markdown",
   "metadata": {},
   "source": [
    "# Cardiac Signals DS Pipeline Example Run\n",
    "The following script runs through the bulk of the data science pipeline.\n",
    "However, since autoencoder training can take up to 15 minutes, the script defaults to loading a pretrained model and creating the reconstruction from that model. \n",
    "\n",
    "If you want to train the model yourself, uncomment the bottom cell to train the autoencoder directly from the preprocessed data\n",
    "\n",
    "### IMPORTANT\n",
    "To use the pretrained model, download the contents of the Box folder `PATIENT 16 PRETRAINED MOELS` into the `Working_Data` directory. The file can be found at the following [box link](https://rice.app.box.com/folder/136025997108)\n"
   ]
  },
  {
   "cell_type": "markdown",
   "metadata": {},
   "source": [
    "### Required Preliminary Step: Make the virtual Environment and start it\n",
    "\n",
    "Example installation of a virtual environment and installing project requirements:\\\n",
    "`pip install virtualenv`\\\n",
    "`virtualenv venv`\\\n",
    "`source venv/bin/activate`\\\n",
    "`pip install -r requirements.txt`\\\n",
    "`python -m ipykernel install --user --name=venv`\\\n",
    "In the jupyter notebook, go to Kernel, change kernel, and select the venv."
   ]
  },
  {
   "cell_type": "code",
   "execution_count": 1,
   "metadata": {},
   "outputs": [
    {
     "name": "stdout",
     "output_type": "stream",
     "text": [
      "Opening file : Reference_idx_16_Time_block_1.h5\n"
     ]
    }
   ],
   "source": [
    "# Perform peak detection and filtering on the raw ECG leads\n",
    "# Saves out a series of files, including Fixed_Dim_HBs_Idx16.npy\n",
    "from src.preprocessing.heartbeat_split import preprocess_sum\n",
    "patient_index = 16\n",
    "preprocess_sum(\"Reference_idx_16_Time_block_1.h5\", patient_index, beats_per_datapoint = 10)"
   ]
  },
  {
   "cell_type": "code",
   "execution_count": 2,
   "metadata": {},
   "outputs": [
    {
     "name": "stdout",
     "output_type": "stream",
     "text": [
      "Normalized patient 16\n"
     ]
    }
   ],
   "source": [
    "# Normalizes the heartbeat vectors for the autoencoder\n",
    "from src.preprocessing.normalize_heartbeats import normalize_heartbeats\n",
    "normalize_heartbeats(patient=patient_index)"
   ]
  },
  {
   "cell_type": "code",
   "execution_count": 3,
   "metadata": {},
   "outputs": [
    {
     "name": "stdout",
     "output_type": "stream",
     "text": [
      "Starting training on patient  16\n",
      "Completed the 0 iteration of transfer learning\n",
      "Completed the 1 iteration of transfer learning\n",
      "Completed the 2 iteration of transfer learning\n"
     ]
    }
   ],
   "source": [
    "# Loads the pretrained model and generate (and save) the reconstructions of the normalized heartbeats\n",
    "from src.models.autoencoders.cdae_timedelay import *\n",
    "from keras.models import load_model\n",
    "\n",
    "print(\"Starting training on patient \", patient_index)\n",
    "filepath = \"Working_Data/Normalized_Fixed_Dim_HBs_Idx\" + str(patient_index) + \".npy\"\n",
    "split_ratio = 0.3\n",
    "train_, remaining = patient_split_adaptive(filepath, split_ratio)\n",
    "# train_noise = noise(train_)\n",
    "three, four, five, six = split(remaining, 4)\n",
    "first_predict = np.concatenate((train_, three, four))\n",
    "second_train = noise(three)\n",
    "third_train = noise(four)\n",
    "predict_data = [first_predict, five, six]\n",
    "\n",
    "\n",
    "for iteration, pred_data in zip([0,1,2], predict_data):\n",
    "    autoencoder = load_model(f'Working_Data/CDAE_timedelay_{patient_index}_iter{iteration}.h5')\n",
    "    reconstruction = autoencoder.predict(pred_data)\n",
    "    reconstruction_save = \"Working_Data/reconstructed_10hb_cdae_\" + str(patient_index) + \"_iter\" + str(\n",
    "        iteration) + \".npy\"\n",
    "    np.save(reconstruction_save, reconstruction)\n",
    "    print(f\"Completed the {iteration} iteration of transfer learning\")\n",
    "\n"
   ]
  },
  {
   "cell_type": "code",
   "execution_count": 4,
   "metadata": {},
   "outputs": [],
   "source": [
    "from src.models.changepoint.cusum import cusum\n",
    "from src.models.changepoint.error_metric import kl_divergence_timedelay"
   ]
  },
  {
   "cell_type": "code",
   "execution_count": 5,
   "metadata": {},
   "outputs": [
    {
     "name": "stdout",
     "output_type": "stream",
     "text": [
      "calculating KL div. time delay for file index 16 on the reconstructed cdae model\n"
     ]
    },
    {
     "data": {
      "text/plain": "<Figure size 432x288 with 1 Axes>",
      "image/png": "[encoded data removed]"
     },
     "metadata": {
      "needs_background": "light"
     },
     "output_type": "display_data"
    }
   ],
   "source": [
    "# compute the mean squared error of the reconstruction vs original heartbeats and apply the CUSUM changepoint algorithm\n",
    "cusum_signal = cusum(16, \"cdae\", 100, kl_divergence_timedelay,plot=True)"
   ]
  },
  {
   "cell_type": "markdown",
   "metadata": {},
   "source": [
    "The previous graph is the CUSUM error metric in the four hours preceding the cardiac arrest for patient 16"
   ]
  },
  {
   "cell_type": "markdown",
   "metadata": {},
   "source": [
    "## Training autoencoder and generate intermediate data"
   ]
  },
  {
   "cell_type": "code",
   "execution_count": 6,
   "metadata": {},
   "outputs": [],
   "source": [
    "# Uncomment the following section if you want to train the autoencoder rather than loading the pretrained model\n",
    "# Warning: Training takes ~10 minutes, so pretrained model is offered for execution speed\n",
    "\n",
    "# from src.models.cdae_timedelay import train_model\n",
    "# # Trains the autoencoder over patient 16's normalized heartbeat and generates the heartbeat reconstruction\n",
    "# train_model(patient_index)"
   ]
  }
 ],
 "metadata": {
  "kernelspec": {
   "name": "python3",
   "language": "python",
   "display_name": "Python 3"
  },
  "language_info": {
   "codemirror_mode": {
    "name": "ipython",
    "version": 3
   },
   "file_extension": ".py",
   "mimetype": "text/x-python",
   "name": "python",
   "nbconvert_exporter": "python",
   "pygments_lexer": "ipython3",
   "version": "3.7.7"
  }
 },
 "nbformat": 4,
 "nbformat_minor": 4
}
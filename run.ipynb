{
 "cells": [
  {
   "cell_type": "markdown",
   "metadata": {},
   "source": [
    "# Cardiac Signals DS Pipeline Example Run\n",
    "The following script runs through the bulk of the data science pipeline.\n",
    "However, since autoencoder training can take up to 15 minutes, the script defaults to loading a pretrained model and creating the reconstruction from that model. \n",
    "\n",
    "If you want to train the model yourself, uncomment the bottom cell to train the autoencoder directly from the preprocessed data\n",
    "\n",
    "### IMPORTANT\n",
    "To use the pretrained model, download `ae_patient_16_dim100_model.h5` into the `Working_Data` directory. The file can be found at the following box link: https://rice.box.com/s/95nzzti2ao9e0blrrrc8iwo3g2c258z3"
   ]
  },
  {
   "cell_type": "markdown",
   "metadata": {},
   "source": [
    "### Required Preliminary Step: Make the virtual Environment and start it\n",
    "\n",
    "Example installation of a virtual environment and installing project requirements:\\\n",
    "`pip install virtualenv`\\\n",
    "`virtualenv venv`\\\n",
    "`source venv/bin/activate`\\\n",
    "`pip install -r requirements.txt`\\\n",
    "`python -m ipykernel install --user --name=venv`\\\n",
    "In the jupyter notebook, go to Kernel, change kernel, and select the venv."
   ]
  },
  {
   "cell_type": "code",
   "execution_count": 1,
   "metadata": {},
   "outputs": [
    {
     "name": "stdout",
     "output_type": "stream",
     "text": [
      "Opening file : Reference_idx_16_Time_block_1.h5\n"
     ]
    }
   ],
   "source": [
    "# Perform peak detection and filtering on the raw ECG leads\n",
    "# Saves out a series of files, including Fixed_Dim_HBs_Idx16.npy\n",
    "from src.preprocessing.heartbeat_split import preprocess_sum\n",
    "preprocess_sum(\"Reference_idx_16_Time_block_1.h5\", 16, beats_per_datapoint = 10)"
   ]
  },
  {
   "cell_type": "code",
   "execution_count": 2,
   "metadata": {},
   "outputs": [
    {
     "name": "stdout",
     "output_type": "stream",
     "text": [
      "Normalized patient 16\n"
     ]
    }
   ],
   "source": [
    "# Normalizes the heartbeat vectors for the autoencoder\n",
    "from src.preprocessing.normalize_heartbeats import normalize_heartbeats\n",
    "normalize_heartbeats()"
   ]
  },
  {
   "cell_type": "code",
   "execution_count": 3,
   "metadata": {},
   "outputs": [],
   "source": [
    "# Loads the pretrained model and generate (and save) the reconstructions of the normalized heartbeats\n",
    "from src.models.conv_denoising_ae import load_model\n",
    "load_model(16)"
   ]
  },
  {
   "cell_type": "code",
   "execution_count": 4,
   "metadata": {},
   "outputs": [],
   "source": [
    "from src.models.changepoint import cusum"
   ]
  },
  {
   "cell_type": "code",
   "execution_count": 5,
   "metadata": {},
   "outputs": [
    {
     "name": "stdout",
     "output_type": "stream",
     "text": [
      "calculating mse for file index 16 on the reconstructed cdae model\n",
      "original normalized signal\n"
     ]
    },
    {
     "data": {
      "image/png": "[encoded data removed]",
      "text/plain": [
       "<Figure size 432x288 with 1 Axes>"
      ]
     },
     "metadata": {
      "needs_background": "light"
     },
     "output_type": "display_data"
    }
   ],
   "source": [
    "# compute the mean squared error of the reconstruction vs original heartbeats and apply the CUSUM changepoint algorithm\n",
    "cusum_signal = cusum(16, \"cdae\", 100)"
   ]
  },
  {
   "cell_type": "markdown",
   "metadata": {},
   "source": [
    "The previous graph is the CUSUM error metric in the four hours preceding the cardiac arrest for patient 16"
   ]
  },
  {
   "cell_type": "markdown",
   "metadata": {},
   "source": [
    "## Training autoencoder and generate intermediate data"
   ]
  },
  {
   "cell_type": "code",
   "execution_count": 6,
   "metadata": {},
   "outputs": [
    {
     "name": "stdout",
     "output_type": "stream",
     "text": [
      "Epoch 1/110\n",
      "7/7 [==============================] - 3s 427ms/step - loss: 1.0536\n",
      "Epoch 2/110\n",
      "7/7 [==============================] - 3s 423ms/step - loss: 0.7855\n",
      "Epoch 3/110\n",
      "7/7 [==============================] - 3s 415ms/step - loss: 0.6410\n",
      "Epoch 4/110\n",
      "7/7 [==============================] - 3s 458ms/step - loss: 0.5263\n",
      "Epoch 5/110\n",
      "7/7 [==============================] - 3s 421ms/step - loss: 0.4460\n",
      "Epoch 6/110\n",
      "7/7 [==============================] - 3s 420ms/step - loss: 0.4049\n",
      "Epoch 7/110\n",
      "7/7 [==============================] - 3s 416ms/step - loss: 0.3882\n",
      "Epoch 8/110\n",
      "7/7 [==============================] - 3s 423ms/step - loss: 0.3781\n",
      "Epoch 9/110\n",
      "7/7 [==============================] - 3s 445ms/step - loss: 0.3710\n",
      "Epoch 10/110\n",
      "7/7 [==============================] - 3s 450ms/step - loss: 0.3662\n",
      "Epoch 11/110\n",
      "7/7 [==============================] - 3s 421ms/step - loss: 0.3611\n",
      "Epoch 12/110\n",
      "7/7 [==============================] - 3s 431ms/step - loss: 0.3556\n",
      "Epoch 13/110\n",
      "7/7 [==============================] - 3s 420ms/step - loss: 0.3509\n",
      "Epoch 14/110\n",
      "7/7 [==============================] - 3s 415ms/step - loss: 0.3471\n",
      "Epoch 15/110\n",
      "7/7 [==============================] - 3s 417ms/step - loss: 0.3412\n",
      "Epoch 16/110\n",
      "7/7 [==============================] - 3s 419ms/step - loss: 0.3333\n",
      "Epoch 17/110\n",
      "7/7 [==============================] - 3s 421ms/step - loss: 0.3244\n",
      "Epoch 18/110\n",
      "7/7 [==============================] - 3s 437ms/step - loss: 0.3091\n",
      "Epoch 19/110\n",
      "7/7 [==============================] - 3s 435ms/step - loss: 0.2966\n",
      "Epoch 20/110\n",
      "7/7 [==============================] - 3s 446ms/step - loss: 0.2873\n",
      "Epoch 21/110\n",
      "7/7 [==============================] - 3s 437ms/step - loss: 0.2811\n",
      "Epoch 22/110\n",
      "7/7 [==============================] - 3s 444ms/step - loss: 0.2768\n",
      "Epoch 23/110\n",
      "7/7 [==============================] - 3s 437ms/step - loss: 0.2724\n",
      "Epoch 24/110\n",
      "7/7 [==============================] - 3s 430ms/step - loss: 0.2680\n",
      "Epoch 25/110\n",
      "7/7 [==============================] - 3s 433ms/step - loss: 0.2635\n",
      "Epoch 26/110\n",
      "7/7 [==============================] - 3s 430ms/step - loss: 0.2567\n",
      "Epoch 27/110\n",
      "7/7 [==============================] - 3s 436ms/step - loss: 0.2510\n",
      "Epoch 28/110\n",
      "7/7 [==============================] - 3s 434ms/step - loss: 0.2462\n",
      "Epoch 29/110\n",
      "7/7 [==============================] - 4s 505ms/step - loss: 0.2422\n",
      "Epoch 30/110\n",
      "7/7 [==============================] - 3s 485ms/step - loss: 0.2392\n",
      "Epoch 31/110\n",
      "7/7 [==============================] - 3s 478ms/step - loss: 0.2364\n",
      "Epoch 32/110\n",
      "7/7 [==============================] - 3s 457ms/step - loss: 0.2340\n",
      "Epoch 33/110\n",
      "7/7 [==============================] - 3s 489ms/step - loss: 0.2319\n",
      "Epoch 34/110\n",
      "7/7 [==============================] - 3s 458ms/step - loss: 0.2299\n",
      "Epoch 35/110\n",
      "7/7 [==============================] - 3s 499ms/step - loss: 0.2285\n",
      "Epoch 36/110\n",
      "7/7 [==============================] - 3s 474ms/step - loss: 0.2272\n",
      "Epoch 37/110\n",
      "7/7 [==============================] - 3s 490ms/step - loss: 0.2259\n",
      "Epoch 38/110\n",
      "7/7 [==============================] - 3s 494ms/step - loss: 0.2239\n",
      "Epoch 39/110\n",
      "7/7 [==============================] - 3s 468ms/step - loss: 0.2222\n",
      "Epoch 40/110\n",
      "7/7 [==============================] - 4s 555ms/step - loss: 0.2203\n",
      "Epoch 41/110\n",
      "7/7 [==============================] - 4s 575ms/step - loss: 0.2180\n",
      "Epoch 42/110\n",
      "7/7 [==============================] - 4s 527ms/step - loss: 0.2162\n",
      "Epoch 43/110\n",
      "7/7 [==============================] - 3s 497ms/step - loss: 0.2143\n",
      "Epoch 44/110\n",
      "7/7 [==============================] - 4s 597ms/step - loss: 0.2119\n",
      "Epoch 45/110\n",
      "7/7 [==============================] - 4s 504ms/step - loss: 0.2102\n",
      "Epoch 46/110\n",
      "7/7 [==============================] - 4s 506ms/step - loss: 0.2087\n",
      "Epoch 47/110\n",
      "7/7 [==============================] - 4s 501ms/step - loss: 0.2073\n",
      "Epoch 48/110\n",
      "7/7 [==============================] - 3s 496ms/step - loss: 0.2061\n",
      "Epoch 49/110\n",
      "7/7 [==============================] - 4s 550ms/step - loss: 0.2059\n",
      "Epoch 50/110\n",
      "7/7 [==============================] - 4s 559ms/step - loss: 0.2048\n",
      "Epoch 51/110\n",
      "7/7 [==============================] - 4s 549ms/step - loss: 0.2034\n",
      "Epoch 52/110\n",
      "7/7 [==============================] - 4s 543ms/step - loss: 0.2023\n",
      "Epoch 53/110\n",
      "7/7 [==============================] - 4s 583ms/step - loss: 0.2013\n",
      "Epoch 54/110\n",
      "7/7 [==============================] - 4s 602ms/step - loss: 0.2005\n",
      "Epoch 55/110\n",
      "7/7 [==============================] - 4s 602ms/step - loss: 0.1997\n",
      "Epoch 56/110\n",
      "7/7 [==============================] - 4s 568ms/step - loss: 0.1993\n",
      "Epoch 57/110\n",
      "7/7 [==============================] - 4s 609ms/step - loss: 0.1985\n",
      "Epoch 58/110\n",
      "7/7 [==============================] - 4s 596ms/step - loss: 0.1978\n",
      "Epoch 59/110\n",
      "7/7 [==============================] - 4s 577ms/step - loss: 0.1974\n",
      "Epoch 60/110\n",
      "7/7 [==============================] - 4s 623ms/step - loss: 0.1969\n",
      "Epoch 61/110\n",
      "7/7 [==============================] - 4s 620ms/step - loss: 0.1966\n",
      "Epoch 62/110\n",
      "7/7 [==============================] - 4s 615ms/step - loss: 0.1961\n",
      "Epoch 63/110\n",
      "7/7 [==============================] - 4s 598ms/step - loss: 0.1955\n",
      "Epoch 64/110\n",
      "7/7 [==============================] - 4s 640ms/step - loss: 0.1948\n",
      "Epoch 65/110\n",
      "7/7 [==============================] - 4s 601ms/step - loss: 0.1945\n",
      "Epoch 66/110\n",
      "7/7 [==============================] - 4s 581ms/step - loss: 0.1942\n",
      "Epoch 67/110\n",
      "7/7 [==============================] - 4s 595ms/step - loss: 0.1938\n",
      "Epoch 68/110\n",
      "7/7 [==============================] - 4s 584ms/step - loss: 0.1934\n",
      "Epoch 69/110\n",
      "7/7 [==============================] - 4s 574ms/step - loss: 0.1931\n",
      "Epoch 70/110\n",
      "7/7 [==============================] - 4s 610ms/step - loss: 0.1926\n",
      "Epoch 71/110\n",
      "7/7 [==============================] - 4s 619ms/step - loss: 0.1921\n",
      "Epoch 72/110\n",
      "7/7 [==============================] - 4s 614ms/step - loss: 0.1917\n",
      "Epoch 73/110\n",
      "7/7 [==============================] - 4s 598ms/step - loss: 0.1912\n",
      "Epoch 74/110\n",
      "7/7 [==============================] - 4s 609ms/step - loss: 0.1910\n",
      "Epoch 75/110\n",
      "7/7 [==============================] - 4s 602ms/step - loss: 0.1906\n",
      "Epoch 76/110\n",
      "7/7 [==============================] - 4s 593ms/step - loss: 0.1903\n",
      "Epoch 77/110\n",
      "7/7 [==============================] - 4s 623ms/step - loss: 0.1901\n",
      "Epoch 78/110\n",
      "7/7 [==============================] - 5s 646ms/step - loss: 0.1896\n",
      "Epoch 79/110\n",
      "7/7 [==============================] - 4s 643ms/step - loss: 0.1892\n",
      "Epoch 80/110\n",
      "7/7 [==============================] - 4s 608ms/step - loss: 0.1888\n",
      "Epoch 81/110\n",
      "7/7 [==============================] - 4s 618ms/step - loss: 0.1886\n",
      "Epoch 82/110\n",
      "7/7 [==============================] - 4s 610ms/step - loss: 0.1883\n",
      "Epoch 83/110\n",
      "7/7 [==============================] - 4s 617ms/step - loss: 0.1881\n",
      "Epoch 84/110\n",
      "7/7 [==============================] - 4s 591ms/step - loss: 0.1879\n",
      "Epoch 85/110\n",
      "7/7 [==============================] - 4s 598ms/step - loss: 0.1879\n",
      "Epoch 86/110\n",
      "7/7 [==============================] - 4s 600ms/step - loss: 0.1877\n",
      "Epoch 87/110\n",
      "7/7 [==============================] - 4s 607ms/step - loss: 0.1875\n",
      "Epoch 88/110\n",
      "7/7 [==============================] - 4s 611ms/step - loss: 0.1870\n",
      "Epoch 89/110\n",
      "7/7 [==============================] - 4s 604ms/step - loss: 0.1866\n",
      "Epoch 90/110\n",
      "7/7 [==============================] - 4s 617ms/step - loss: 0.1861\n",
      "Epoch 91/110\n",
      "7/7 [==============================] - 5s 696ms/step - loss: 0.1858\n",
      "Epoch 92/110\n",
      "7/7 [==============================] - 5s 675ms/step - loss: 0.1856\n",
      "Epoch 93/110\n",
      "7/7 [==============================] - 5s 670ms/step - loss: 0.1853\n",
      "Epoch 94/110\n",
      "7/7 [==============================] - 4s 630ms/step - loss: 0.1852\n",
      "Epoch 95/110\n",
      "7/7 [==============================] - 4s 606ms/step - loss: 0.1849\n",
      "Epoch 96/110\n",
      "7/7 [==============================] - 4s 609ms/step - loss: 0.1846\n",
      "Epoch 97/110\n",
      "7/7 [==============================] - 4s 610ms/step - loss: 0.1843\n",
      "Epoch 98/110\n",
      "7/7 [==============================] - 4s 627ms/step - loss: 0.1840\n",
      "Epoch 99/110\n",
      "7/7 [==============================] - 4s 636ms/step - loss: 0.1838\n",
      "Epoch 100/110\n",
      "7/7 [==============================] - 5s 650ms/step - loss: 0.1836\n",
      "Epoch 101/110\n",
      "7/7 [==============================] - 5s 645ms/step - loss: 0.1842\n",
      "Epoch 102/110\n",
      "7/7 [==============================] - 4s 638ms/step - loss: 0.1837\n",
      "Epoch 103/110\n",
      "7/7 [==============================] - 4s 618ms/step - loss: 0.1832\n",
      "Epoch 104/110\n",
      "7/7 [==============================] - 4s 618ms/step - loss: 0.1827\n",
      "Epoch 105/110\n",
      "7/7 [==============================] - 4s 625ms/step - loss: 0.1824\n",
      "Epoch 106/110\n",
      "7/7 [==============================] - 4s 608ms/step - loss: 0.1820\n",
      "Epoch 107/110\n",
      "7/7 [==============================] - 4s 597ms/step - loss: 0.1819\n",
      "Epoch 108/110\n",
      "7/7 [==============================] - 4s 603ms/step - loss: 0.1816\n",
      "Epoch 109/110\n",
      "7/7 [==============================] - 4s 620ms/step - loss: 0.1815\n",
      "Epoch 110/110\n",
      "7/7 [==============================] - 4s 609ms/step - loss: 0.1813\n"
     ]
    }
   ],
   "source": [
    "# Uncomment the following section if you want to train the autoencoder rather than loading the pretrained model\n",
    "# Warning: Training takes 15 minutes, so pretrained model is offered for execution speed\n",
    "\n",
    "# from src.models.conv_denoising_ae import training_ae\n",
    "# # Trains the autoencoder over patient 16's normalized heartbeat and generates the heartbeat reconstruction\n",
    "# training_ae(110, 100, 16, False)"
   ]
  }
 ],
 "metadata": {
  "kernelspec": {
   "display_name": "debug2",
   "language": "python",
   "name": "debug2"
  },
  "language_info": {
   "codemirror_mode": {
    "name": "ipython",
    "version": 3
   },
   "file_extension": ".py",
   "mimetype": "text/x-python",
   "name": "python",
   "nbconvert_exporter": "python",
   "pygments_lexer": "ipython3",
   "version": "3.7.7"
  }
 },
 "nbformat": 4,
 "nbformat_minor": 4
}

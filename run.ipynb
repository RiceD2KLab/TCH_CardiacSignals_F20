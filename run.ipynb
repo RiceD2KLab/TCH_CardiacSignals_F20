{
 "cells": [
  {
   "cell_type": "markdown",
   "metadata": {},
   "source": [
    "### Step 1: Make Virtual Environment and start venv"
   ]
  },
  {
   "cell_type": "code",
   "execution_count": 1,
   "metadata": {},
   "outputs": [
    {
     "name": "stdout",
     "output_type": "stream",
     "text": [
      "Collecting certifi==2020.6.20\n",
      "  Using cached certifi-2020.6.20-py2.py3-none-any.whl (156 kB)\n",
      "Collecting cycler==0.10.0\n",
      "  Using cached cycler-0.10.0-py2.py3-none-any.whl (6.5 kB)\n",
      "Collecting ecg-plot==0.2.2\n",
      "  Using cached ecg_plot-0.2.2-py3-none-any.whl (8.9 kB)\n",
      "Collecting h5py==2.10.0\n",
      "  Using cached h5py-2.10.0-cp38-cp38-macosx_10_9_x86_64.whl (3.0 MB)\n",
      "Collecting Keras~=2.4.3\n",
      "  Using cached Keras-2.4.3-py2.py3-none-any.whl (36 kB)\n",
      "Collecting kiwisolver==1.2.0\n",
      "  Using cached kiwisolver-1.2.0-cp38-cp38-macosx_10_9_x86_64.whl (60 kB)\n",
      "Collecting matplotlib==3.3.1\n",
      "  Using cached matplotlib-3.3.1-cp38-cp38-macosx_10_9_x86_64.whl (8.5 MB)\n",
      "Collecting numpy==1.19.1\n",
      "  Using cached numpy-1.19.1-cp38-cp38-macosx_10_9_x86_64.whl (15.3 MB)\n",
      "Collecting Pillow==7.2.0\n",
      "  Using cached Pillow-7.2.0-cp38-cp38-macosx_10_10_x86_64.whl (2.2 MB)\n",
      "Collecting pyparsing==2.4.7\n",
      "  Using cached pyparsing-2.4.7-py2.py3-none-any.whl (67 kB)\n",
      "Collecting python-dateutil==2.8.1\n",
      "  Using cached python_dateutil-2.8.1-py2.py3-none-any.whl (227 kB)\n",
      "Collecting ruptures~=1.0.6\n",
      "  Using cached ruptures-1.0.6-py3-none-any.whl (40 kB)\n",
      "Collecting scikit-image~=0.17.2\n",
      "  Using cached scikit_image-0.17.2-cp38-cp38-macosx_10_13_x86_64.whl (12.2 MB)\n",
      "Collecting scikit-learn==0.23.2\n",
      "  Using cached scikit_learn-0.23.2-cp38-cp38-macosx_10_9_x86_64.whl (7.2 MB)\n",
      "Collecting scipy==1.5.3\n",
      "  Using cached scipy-1.5.3-cp38-cp38-macosx_10_9_x86_64.whl (29.0 MB)\n",
      "Collecting seaborn\n",
      "  Using cached seaborn-0.11.0-py3-none-any.whl (283 kB)\n",
      "Collecting six==1.15.0\n",
      "  Using cached six-1.15.0-py2.py3-none-any.whl (10 kB)\n",
      "Collecting tensorflow~=2.3.0\n",
      "  Using cached tensorflow-2.3.1-cp38-cp38-macosx_10_14_x86_64.whl (165.2 MB)\n",
      "Requirement already satisfied: wheel>=0.26 in ./venv/lib/python3.8/site-packages (from tensorflow~=2.3.0->-r requirements.txt (line 16)) (0.36.1)\n",
      "  Using cached tensorflow-2.3.0-cp38-cp38-macosx_10_11_x86_64.whl (165.2 MB)\n",
      "Requirement already satisfied: wheel>=0.26 in ./venv/lib/python3.8/site-packages (from tensorflow~=2.3.0->-r requirements.txt (line 16)) (0.36.1)\n",
      "INFO: pip is looking at multiple versions of six to determine which version is compatible with other requirements. This could take a while.\n",
      "INFO: pip is looking at multiple versions of seaborn to determine which version is compatible with other requirements. This could take a while.\n",
      "Collecting seaborn\n",
      "  Using cached seaborn-0.10.1-py3-none-any.whl (215 kB)\n",
      "Requirement already satisfied: wheel>=0.26 in ./venv/lib/python3.8/site-packages (from tensorflow~=2.3.0->-r requirements.txt (line 16)) (0.36.1)\n",
      "Requirement already satisfied: wheel>=0.26 in ./venv/lib/python3.8/site-packages (from tensorflow~=2.3.0->-r requirements.txt (line 16)) (0.36.1)\n",
      "  Using cached seaborn-0.10.0-py3-none-any.whl (215 kB)\n",
      "Requirement already satisfied: wheel>=0.26 in ./venv/lib/python3.8/site-packages (from tensorflow~=2.3.0->-r requirements.txt (line 16)) (0.36.1)\n",
      "Requirement already satisfied: wheel>=0.26 in ./venv/lib/python3.8/site-packages (from tensorflow~=2.3.0->-r requirements.txt (line 16)) (0.36.1)\n",
      "  Using cached seaborn-0.9.1-py2.py3-none-any.whl (216 kB)\n",
      "Requirement already satisfied: wheel>=0.26 in ./venv/lib/python3.8/site-packages (from tensorflow~=2.3.0->-r requirements.txt (line 16)) (0.36.1)\n",
      "Requirement already satisfied: wheel>=0.26 in ./venv/lib/python3.8/site-packages (from tensorflow~=2.3.0->-r requirements.txt (line 16)) (0.36.1)\n",
      "  Using cached seaborn-0.9.0-py3-none-any.whl (208 kB)\n",
      "Requirement already satisfied: wheel>=0.26 in ./venv/lib/python3.8/site-packages (from tensorflow~=2.3.0->-r requirements.txt (line 16)) (0.36.1)\n",
      "Requirement already satisfied: wheel>=0.26 in ./venv/lib/python3.8/site-packages (from tensorflow~=2.3.0->-r requirements.txt (line 16)) (0.36.1)\n",
      "  Using cached seaborn-0.8.1.tar.gz (178 kB)\n",
      "Requirement already satisfied: wheel>=0.26 in ./venv/lib/python3.8/site-packages (from tensorflow~=2.3.0->-r requirements.txt (line 16)) (0.36.1)\n",
      "Requirement already satisfied: wheel>=0.26 in ./venv/lib/python3.8/site-packages (from tensorflow~=2.3.0->-r requirements.txt (line 16)) (0.36.1)\n",
      "  Using cached seaborn-0.8.tar.gz (178 kB)\n",
      "Requirement already satisfied: wheel>=0.26 in ./venv/lib/python3.8/site-packages (from tensorflow~=2.3.0->-r requirements.txt (line 16)) (0.36.1)\n",
      "Requirement already satisfied: wheel>=0.26 in ./venv/lib/python3.8/site-packages (from tensorflow~=2.3.0->-r requirements.txt (line 16)) (0.36.1)\n",
      "  Using cached seaborn-0.7.1.tar.gz (158 kB)\n",
      "Requirement already satisfied: wheel>=0.26 in ./venv/lib/python3.8/site-packages (from tensorflow~=2.3.0->-r requirements.txt (line 16)) (0.36.1)\n",
      "Requirement already satisfied: wheel>=0.26 in ./venv/lib/python3.8/site-packages (from tensorflow~=2.3.0->-r requirements.txt (line 16)) (0.36.1)\n",
      "INFO: pip is looking at multiple versions of six to determine which version is compatible with other requirements. This could take a while.\n",
      "INFO: pip is looking at multiple versions of seaborn to determine which version is compatible with other requirements. This could take a while.\n",
      "  Using cached seaborn-0.7.0.tar.gz (154 kB)\n",
      "Requirement already satisfied: wheel>=0.26 in ./venv/lib/python3.8/site-packages (from tensorflow~=2.3.0->-r requirements.txt (line 16)) (0.36.1)\n",
      "Requirement already satisfied: wheel>=0.26 in ./venv/lib/python3.8/site-packages (from tensorflow~=2.3.0->-r requirements.txt (line 16)) (0.36.1)\n",
      "  Using cached seaborn-0.6.0.tar.gz (145 kB)\n",
      "Requirement already satisfied: wheel>=0.26 in ./venv/lib/python3.8/site-packages (from tensorflow~=2.3.0->-r requirements.txt (line 16)) (0.36.1)\n",
      "Requirement already satisfied: wheel>=0.26 in ./venv/lib/python3.8/site-packages (from tensorflow~=2.3.0->-r requirements.txt (line 16)) (0.36.1)\n",
      "  Using cached seaborn-0.5.1.tar.gz (104 kB)\n",
      "Requirement already satisfied: wheel>=0.26 in ./venv/lib/python3.8/site-packages (from tensorflow~=2.3.0->-r requirements.txt (line 16)) (0.36.1)\n",
      "Requirement already satisfied: wheel>=0.26 in ./venv/lib/python3.8/site-packages (from tensorflow~=2.3.0->-r requirements.txt (line 16)) (0.36.1)\n",
      "  Using cached seaborn-0.5.0.tar.gz (103 kB)\n",
      "Requirement already satisfied: wheel>=0.26 in ./venv/lib/python3.8/site-packages (from tensorflow~=2.3.0->-r requirements.txt (line 16)) (0.36.1)\n",
      "Requirement already satisfied: wheel>=0.26 in ./venv/lib/python3.8/site-packages (from tensorflow~=2.3.0->-r requirements.txt (line 16)) (0.36.1)\n",
      "  Using cached seaborn-0.4.0.tar.gz (86 kB)\n",
      "Requirement already satisfied: wheel>=0.26 in ./venv/lib/python3.8/site-packages (from tensorflow~=2.3.0->-r requirements.txt (line 16)) (0.36.1)\n",
      "Requirement already satisfied: wheel>=0.26 in ./venv/lib/python3.8/site-packages (from tensorflow~=2.3.0->-r requirements.txt (line 16)) (0.36.1)\n",
      "INFO: This is taking longer than usual. You might need to provide the dependency resolver with stricter constraints to reduce runtime. If you want to abort this run, you can press Ctrl + C to do so. To improve how pip performs, tell us what happened here: https://pip.pypa.io/surveys/backtracking\n",
      "INFO: This is taking longer than usual. You might need to provide the dependency resolver with stricter constraints to reduce runtime. If you want to abort this run, you can press Ctrl + C to do so. To improve how pip performs, tell us what happened here: https://pip.pypa.io/surveys/backtracking\n",
      "  Using cached seaborn-0.3.1.tar.gz (69 kB)\n",
      "Requirement already satisfied: wheel>=0.26 in ./venv/lib/python3.8/site-packages (from tensorflow~=2.3.0->-r requirements.txt (line 16)) (0.36.1)\n",
      "Requirement already satisfied: wheel>=0.26 in ./venv/lib/python3.8/site-packages (from tensorflow~=2.3.0->-r requirements.txt (line 16)) (0.36.1)\n",
      "  Using cached seaborn-0.3.tar.gz (66 kB)\n",
      "Requirement already satisfied: wheel>=0.26 in ./venv/lib/python3.8/site-packages (from tensorflow~=2.3.0->-r requirements.txt (line 16)) (0.36.1)\n",
      "Requirement already satisfied: wheel>=0.26 in ./venv/lib/python3.8/site-packages (from tensorflow~=2.3.0->-r requirements.txt (line 16)) (0.36.1)\n",
      "  Using cached seaborn-0.2.1.tar.gz (28 kB)\n",
      "Requirement already satisfied: wheel>=0.26 in ./venv/lib/python3.8/site-packages (from tensorflow~=2.3.0->-r requirements.txt (line 16)) (0.36.1)\n",
      "Requirement already satisfied: wheel>=0.26 in ./venv/lib/python3.8/site-packages (from tensorflow~=2.3.0->-r requirements.txt (line 16)) (0.36.1)\n"
     ]
    },
    {
     "name": "stdout",
     "output_type": "stream",
     "text": [
      "  Using cached seaborn-0.2.0.tar.gz (25 kB)\n",
      "Requirement already satisfied: wheel>=0.26 in ./venv/lib/python3.8/site-packages (from tensorflow~=2.3.0->-r requirements.txt (line 16)) (0.36.1)\n",
      "Requirement already satisfied: wheel>=0.26 in ./venv/lib/python3.8/site-packages (from tensorflow~=2.3.0->-r requirements.txt (line 16)) (0.36.1)\n",
      "  Using cached seaborn-0.1.tar.gz (16 kB)\n",
      "\u001b[31m    ERROR: Command errored out with exit status 1:\n",
      "     command: /Users/andrew/repro_TCH/venv/bin/python -c 'import sys, setuptools, tokenize; sys.argv[0] = '\"'\"'/private/var/folders/bv/_y9nptj141qbsg6lvgtk6jbw0000gn/T/pip-install-yug92ysc/seaborn_4851582e58f64d1a9da3cf45a1471088/setup.py'\"'\"'; __file__='\"'\"'/private/var/folders/bv/_y9nptj141qbsg6lvgtk6jbw0000gn/T/pip-install-yug92ysc/seaborn_4851582e58f64d1a9da3cf45a1471088/setup.py'\"'\"';f=getattr(tokenize, '\"'\"'open'\"'\"', open)(__file__);code=f.read().replace('\"'\"'\\r\\n'\"'\"', '\"'\"'\\n'\"'\"');f.close();exec(compile(code, __file__, '\"'\"'exec'\"'\"'))' egg_info --egg-base /private/var/folders/bv/_y9nptj141qbsg6lvgtk6jbw0000gn/T/pip-pip-egg-info-55_rzhoc\n",
      "         cwd: /private/var/folders/bv/_y9nptj141qbsg6lvgtk6jbw0000gn/T/pip-install-yug92ysc/seaborn_4851582e58f64d1a9da3cf45a1471088/\n",
      "    Complete output (5 lines):\n",
      "    Traceback (most recent call last):\n",
      "      File \"<string>\", line 1, in <module>\n",
      "      File \"/private/var/folders/bv/_y9nptj141qbsg6lvgtk6jbw0000gn/T/pip-install-yug92ysc/seaborn_4851582e58f64d1a9da3cf45a1471088/setup.py\", line 19, in <module>\n",
      "        from numpy.distutils.core import setup\n",
      "    ModuleNotFoundError: No module named 'numpy'\n",
      "    ----------------------------------------\u001b[0m\n",
      "\u001b[31mERROR: Command errored out with exit status 1: python setup.py egg_info Check the logs for full command output.\u001b[0m\n"
     ]
    }
   ],
   "source": [
    "# install requirements into venv\n",
    "!pip install -r requirements.txt"
   ]
  },
  {
   "cell_type": "code",
   "execution_count": 1,
   "metadata": {},
   "outputs": [
    {
     "name": "stdout",
     "output_type": "stream",
     "text": [
      "Opening file : Reference_idx_16_Time_block_1.h5\n"
     ]
    }
   ],
   "source": [
    "from src.preprocessing.heartbeat_split import preprocess_sum\n",
    "preprocess_sum(\"Reference_idx_16_Time_block_1.h5\", 16, beats_per_datapoint = 10)"
   ]
  },
  {
   "cell_type": "code",
   "execution_count": 2,
   "metadata": {},
   "outputs": [
    {
     "name": "stdout",
     "output_type": "stream",
     "text": [
      "Normalized patient 16\n"
     ]
    }
   ],
   "source": [
    "from src.preprocessing.normalize_heartbeats import normalize_heartbeats\n",
    "normalize_heartbeats()"
   ]
  },
  {
   "cell_type": "code",
   "execution_count": 3,
   "metadata": {},
   "outputs": [],
   "source": [
    "from src.models.conv_denoising_ae import load_model\n",
    "load_model(16)"
   ]
  },
  {
   "cell_type": "code",
   "execution_count": 4,
   "metadata": {},
   "outputs": [],
   "source": [
    "from src.models.changepoint import cusum"
   ]
  },
  {
   "cell_type": "code",
   "execution_count": 6,
   "metadata": {},
   "outputs": [
    {
     "name": "stdout",
     "output_type": "stream",
     "text": [
      "calculating mse for file index 16 on the reconstructed cdae model\n",
      "original normalized signal\n"
     ]
    },
    {
     "data": {
      "image/png": "[encoded data removed]",
      "text/plain": [
       "<Figure size 432x288 with 1 Axes>"
      ]
     },
     "metadata": {
      "needs_background": "light"
     },
     "output_type": "display_data"
    }
   ],
   "source": [
    "cusum_signal = cusum(16, \"cdae\", 100)"
   ]
  },
  {
   "cell_type": "markdown",
   "metadata": {},
   "source": [
    "## Training autoencoder and generate intermediate data"
   ]
  },
  {
   "cell_type": "code",
   "execution_count": null,
   "metadata": {},
   "outputs": [],
   "source": [
    "# Warning: Training takes 15 minutes\n",
    "from src.models.conv_denoising_ae import training_ae\n",
    "# Trains the autoencoder over patient 16's normalized heartbeat and generates the heartbeat reconstruction\n",
    "training_ae(110, 100, 16, False)"
   ]
  }
 ],
 "metadata": {
  "kernelspec": {
   "display_name": "Python 3",
   "language": "python",
   "name": "python3"
  },
  "language_info": {
   "codemirror_mode": {
    "name": "ipython",
    "version": 3
   },
   "file_extension": ".py",
   "mimetype": "text/x-python",
   "name": "python",
   "nbconvert_exporter": "python",
   "pygments_lexer": "ipython3",
   "version": "3.8.3"
  }
 },
 "nbformat": 4,
 "nbformat_minor": 4
}
